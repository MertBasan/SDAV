{
 "cells": [
  {
   "cell_type": "markdown",
   "metadata": {},
   "source": [
    "<img src=\"http://www.cems.uwe.ac.uk/~pa-legg/images/uwe_banner.png\">\n",
    "\n",
    "# UFCFEL-15-3 Security Data Analytics and Visualisation\n",
    "# Portfolio Assignment 2: Machine Learning for Malware Analysis (2022)\n",
    "---\n",
    "\n",
    "The completion of this worksheet is worth a **maximum of 35 marks** towards your portfolio assignment for the UFCFEL-15-3 Security Data Analytics and Visualisation (SDAV) module.\n",
    "\n",
    "### Brief\n",
    "---\n",
    "\n",
    "In this task, you have been given a large sample of derived malware features that describe 14 different malware variants (2000 samples of each). The purpose of this task is to understand the underlying concepts of classification, and **your task will be to develop two classifiers that can classify malware varients**. The first part will focus on a small hand-made classifier using only 3 malware classes, to understand the principles of search space and minimisation of a function. The second part will focus on using off-the-shelf libraries to scale up the classification to all 14 classes of malware present in the dataset.\n",
    "\n",
    "### Assessment and Marking\n",
    "---\n",
    "\n",
    "For each question you will see the maximum number of marks you may be awarded for a complete answer in brackets.\n",
    "\n",
    "**Part 1: Developing a Classifier \"by hand\" - (Total Marks: 20)**\n",
    "\n",
    "* **Task 1:** Find the Centroid point of each of the three groups (3)\n",
    "* **Task 2:** Plot the centroids on a Scatter Plot against the train data colour-coded by group (3)\n",
    "* **Task 3:** For each item in test_data, measure the distance to each centroid point, assign membership to the group of minimum distance, and compare with the expected test data label to obtain a score of successful classifications (12)\n",
    "* **Task 4:** Provide a final accuracy score for the performance of your \"by hand\" classifier (2)\n",
    "\n",
    "**Part 2: Developing a large-scale ML classifier - (Total Marks: 15)**\n",
    "\n",
    "* **Task 5:** Scale the Input Features for further processing using the StandardScaler function (1)\n",
    "* **Task 6:** Obtain numerical labels for each class using the LabelEncoder function (1)\n",
    "* **(Advanced) Task 7:** Prepare the dataset for ML testing, using the Train-Test-Split function of sklearn (2)\n",
    "* **(Advanced) Task 8:** Use a Multi-Layer Perceptron (MLP) classifier to train a machine learning model, and obtain the accuracy score against your test data. (4)\n",
    "* **(Advanced) Task 9:** Use a Random Forest (RF) classifier to train a machine learning model, and obtain the accuracy score against your test data. (4)\n",
    "* **(Advanced) Task 10:** Show how ML parameters can improve the models to achieve a high accuracy score of over 80% (3)\n",
    "\n",
    "This assignment should be submitted as as PDF to your Blackboard portfolio submission as per the instructions in the assignment specification available on Blackboard. A copy of your work should also be provided via a UWE Gitlab repository, with an accessible link provided with your portfolio.\n",
    " \n",
    "### Contact\n",
    "---\n",
    "\n",
    "Questions about this assignment should be directed to your module leader (Phil.Legg@uwe.ac.uk). You can use the Blackboard Q&A feature to ask questions related to this module and this assignment, as well as the on-site teaching sessions.\n",
    "\n",
    "---"
   ]
  },
  {
   "cell_type": "code",
   "execution_count": 1,
   "metadata": {},
   "outputs": [],
   "source": [
    "import numpy as np\n",
    "import pandas as pd\n",
    "import matplotlib.pyplot as plt"
   ]
  },
  {
   "cell_type": "code",
   "execution_count": 2,
   "metadata": {},
   "outputs": [
    {
     "data": {
      "text/html": [
       "<div>\n",
       "<style scoped>\n",
       "    .dataframe tbody tr th:only-of-type {\n",
       "        vertical-align: middle;\n",
       "    }\n",
       "\n",
       "    .dataframe tbody tr th {\n",
       "        vertical-align: top;\n",
       "    }\n",
       "\n",
       "    .dataframe thead th {\n",
       "        text-align: right;\n",
       "    }\n",
       "</style>\n",
       "<table border=\"1\" class=\"dataframe\">\n",
       "  <thead>\n",
       "    <tr style=\"text-align: right;\">\n",
       "      <th></th>\n",
       "      <th>0</th>\n",
       "      <th>1</th>\n",
       "      <th>2</th>\n",
       "      <th>3</th>\n",
       "      <th>4</th>\n",
       "      <th>5</th>\n",
       "      <th>6</th>\n",
       "      <th>7</th>\n",
       "      <th>8</th>\n",
       "      <th>9</th>\n",
       "      <th>...</th>\n",
       "      <th>246</th>\n",
       "      <th>247</th>\n",
       "      <th>248</th>\n",
       "      <th>249</th>\n",
       "      <th>250</th>\n",
       "      <th>251</th>\n",
       "      <th>252</th>\n",
       "      <th>253</th>\n",
       "      <th>254</th>\n",
       "      <th>255</th>\n",
       "    </tr>\n",
       "  </thead>\n",
       "  <tbody>\n",
       "    <tr>\n",
       "      <th>0</th>\n",
       "      <td>224862.0</td>\n",
       "      <td>15842.0</td>\n",
       "      <td>12985.0</td>\n",
       "      <td>7387.0</td>\n",
       "      <td>13132.0</td>\n",
       "      <td>5112.0</td>\n",
       "      <td>8661.0</td>\n",
       "      <td>7990.0</td>\n",
       "      <td>14978.0</td>\n",
       "      <td>5656.0</td>\n",
       "      <td>...</td>\n",
       "      <td>3714.0</td>\n",
       "      <td>2892.0</td>\n",
       "      <td>9344.0</td>\n",
       "      <td>2415.0</td>\n",
       "      <td>2742.0</td>\n",
       "      <td>3023.0</td>\n",
       "      <td>11949.0</td>\n",
       "      <td>3662.0</td>\n",
       "      <td>5552.0</td>\n",
       "      <td>77433.0</td>\n",
       "    </tr>\n",
       "    <tr>\n",
       "      <th>1</th>\n",
       "      <td>21802.0</td>\n",
       "      <td>2127.0</td>\n",
       "      <td>2076.0</td>\n",
       "      <td>2028.0</td>\n",
       "      <td>1871.0</td>\n",
       "      <td>1622.0</td>\n",
       "      <td>1939.0</td>\n",
       "      <td>1502.0</td>\n",
       "      <td>2133.0</td>\n",
       "      <td>1689.0</td>\n",
       "      <td>...</td>\n",
       "      <td>1664.0</td>\n",
       "      <td>1607.0</td>\n",
       "      <td>1788.0</td>\n",
       "      <td>1394.0</td>\n",
       "      <td>1327.0</td>\n",
       "      <td>1453.0</td>\n",
       "      <td>1785.0</td>\n",
       "      <td>1559.0</td>\n",
       "      <td>1755.0</td>\n",
       "      <td>4882.0</td>\n",
       "    </tr>\n",
       "    <tr>\n",
       "      <th>2</th>\n",
       "      <td>24407.0</td>\n",
       "      <td>11682.0</td>\n",
       "      <td>7189.0</td>\n",
       "      <td>6538.0</td>\n",
       "      <td>7687.0</td>\n",
       "      <td>6848.0</td>\n",
       "      <td>4974.0</td>\n",
       "      <td>5377.0</td>\n",
       "      <td>7049.0</td>\n",
       "      <td>11642.0</td>\n",
       "      <td>...</td>\n",
       "      <td>5795.0</td>\n",
       "      <td>6053.0</td>\n",
       "      <td>6426.0</td>\n",
       "      <td>5435.0</td>\n",
       "      <td>4961.0</td>\n",
       "      <td>5026.0</td>\n",
       "      <td>5376.0</td>\n",
       "      <td>4180.0</td>\n",
       "      <td>5685.0</td>\n",
       "      <td>5775.0</td>\n",
       "    </tr>\n",
       "    <tr>\n",
       "      <th>3</th>\n",
       "      <td>7132.0</td>\n",
       "      <td>461.0</td>\n",
       "      <td>647.0</td>\n",
       "      <td>371.0</td>\n",
       "      <td>581.0</td>\n",
       "      <td>269.0</td>\n",
       "      <td>646.0</td>\n",
       "      <td>262.0</td>\n",
       "      <td>243.0</td>\n",
       "      <td>165.0</td>\n",
       "      <td>...</td>\n",
       "      <td>151.0</td>\n",
       "      <td>276.0</td>\n",
       "      <td>299.0</td>\n",
       "      <td>294.0</td>\n",
       "      <td>294.0</td>\n",
       "      <td>354.0</td>\n",
       "      <td>506.0</td>\n",
       "      <td>569.0</td>\n",
       "      <td>940.0</td>\n",
       "      <td>1516.0</td>\n",
       "    </tr>\n",
       "    <tr>\n",
       "      <th>4</th>\n",
       "      <td>5321.0</td>\n",
       "      <td>1108.0</td>\n",
       "      <td>985.0</td>\n",
       "      <td>955.0</td>\n",
       "      <td>958.0</td>\n",
       "      <td>890.0</td>\n",
       "      <td>971.0</td>\n",
       "      <td>919.0</td>\n",
       "      <td>945.0</td>\n",
       "      <td>963.0</td>\n",
       "      <td>...</td>\n",
       "      <td>933.0</td>\n",
       "      <td>975.0</td>\n",
       "      <td>945.0</td>\n",
       "      <td>924.0</td>\n",
       "      <td>879.0</td>\n",
       "      <td>952.0</td>\n",
       "      <td>956.0</td>\n",
       "      <td>900.0</td>\n",
       "      <td>942.0</td>\n",
       "      <td>1559.0</td>\n",
       "    </tr>\n",
       "    <tr>\n",
       "      <th>...</th>\n",
       "      <td>...</td>\n",
       "      <td>...</td>\n",
       "      <td>...</td>\n",
       "      <td>...</td>\n",
       "      <td>...</td>\n",
       "      <td>...</td>\n",
       "      <td>...</td>\n",
       "      <td>...</td>\n",
       "      <td>...</td>\n",
       "      <td>...</td>\n",
       "      <td>...</td>\n",
       "      <td>...</td>\n",
       "      <td>...</td>\n",
       "      <td>...</td>\n",
       "      <td>...</td>\n",
       "      <td>...</td>\n",
       "      <td>...</td>\n",
       "      <td>...</td>\n",
       "      <td>...</td>\n",
       "      <td>...</td>\n",
       "      <td>...</td>\n",
       "    </tr>\n",
       "    <tr>\n",
       "      <th>27995</th>\n",
       "      <td>23849.0</td>\n",
       "      <td>1489.0</td>\n",
       "      <td>1573.0</td>\n",
       "      <td>2649.0</td>\n",
       "      <td>1560.0</td>\n",
       "      <td>1025.0</td>\n",
       "      <td>922.0</td>\n",
       "      <td>1020.0</td>\n",
       "      <td>1042.0</td>\n",
       "      <td>938.0</td>\n",
       "      <td>...</td>\n",
       "      <td>993.0</td>\n",
       "      <td>968.0</td>\n",
       "      <td>1165.0</td>\n",
       "      <td>1041.0</td>\n",
       "      <td>1258.0</td>\n",
       "      <td>1753.0</td>\n",
       "      <td>1203.0</td>\n",
       "      <td>958.0</td>\n",
       "      <td>1315.0</td>\n",
       "      <td>4342.0</td>\n",
       "    </tr>\n",
       "    <tr>\n",
       "      <th>27996</th>\n",
       "      <td>9267.0</td>\n",
       "      <td>1056.0</td>\n",
       "      <td>981.0</td>\n",
       "      <td>930.0</td>\n",
       "      <td>1573.0</td>\n",
       "      <td>819.0</td>\n",
       "      <td>879.0</td>\n",
       "      <td>1064.0</td>\n",
       "      <td>1029.0</td>\n",
       "      <td>893.0</td>\n",
       "      <td>...</td>\n",
       "      <td>998.0</td>\n",
       "      <td>911.0</td>\n",
       "      <td>990.0</td>\n",
       "      <td>1039.0</td>\n",
       "      <td>930.0</td>\n",
       "      <td>833.0</td>\n",
       "      <td>904.0</td>\n",
       "      <td>891.0</td>\n",
       "      <td>976.0</td>\n",
       "      <td>2683.0</td>\n",
       "    </tr>\n",
       "    <tr>\n",
       "      <th>27997</th>\n",
       "      <td>25357.0</td>\n",
       "      <td>874.0</td>\n",
       "      <td>1008.0</td>\n",
       "      <td>2781.0</td>\n",
       "      <td>1518.0</td>\n",
       "      <td>939.0</td>\n",
       "      <td>4267.0</td>\n",
       "      <td>968.0</td>\n",
       "      <td>1103.0</td>\n",
       "      <td>1032.0</td>\n",
       "      <td>...</td>\n",
       "      <td>563.0</td>\n",
       "      <td>557.0</td>\n",
       "      <td>974.0</td>\n",
       "      <td>706.0</td>\n",
       "      <td>514.0</td>\n",
       "      <td>632.0</td>\n",
       "      <td>657.0</td>\n",
       "      <td>584.0</td>\n",
       "      <td>535.0</td>\n",
       "      <td>2431.0</td>\n",
       "    </tr>\n",
       "    <tr>\n",
       "      <th>27998</th>\n",
       "      <td>29010.0</td>\n",
       "      <td>6476.0</td>\n",
       "      <td>2969.0</td>\n",
       "      <td>5358.0</td>\n",
       "      <td>2827.0</td>\n",
       "      <td>4598.0</td>\n",
       "      <td>2172.0</td>\n",
       "      <td>4045.0</td>\n",
       "      <td>2496.0</td>\n",
       "      <td>3718.0</td>\n",
       "      <td>...</td>\n",
       "      <td>217.0</td>\n",
       "      <td>146.0</td>\n",
       "      <td>544.0</td>\n",
       "      <td>232.0</td>\n",
       "      <td>95.0</td>\n",
       "      <td>140.0</td>\n",
       "      <td>294.0</td>\n",
       "      <td>163.0</td>\n",
       "      <td>182.0</td>\n",
       "      <td>4005.0</td>\n",
       "    </tr>\n",
       "    <tr>\n",
       "      <th>27999</th>\n",
       "      <td>4956.0</td>\n",
       "      <td>185.0</td>\n",
       "      <td>74.0</td>\n",
       "      <td>92.0</td>\n",
       "      <td>133.0</td>\n",
       "      <td>94.0</td>\n",
       "      <td>56.0</td>\n",
       "      <td>46.0</td>\n",
       "      <td>145.0</td>\n",
       "      <td>93.0</td>\n",
       "      <td>...</td>\n",
       "      <td>50.0</td>\n",
       "      <td>61.0</td>\n",
       "      <td>810.0</td>\n",
       "      <td>1109.0</td>\n",
       "      <td>109.0</td>\n",
       "      <td>62.0</td>\n",
       "      <td>209.0</td>\n",
       "      <td>112.0</td>\n",
       "      <td>84.0</td>\n",
       "      <td>992.0</td>\n",
       "    </tr>\n",
       "  </tbody>\n",
       "</table>\n",
       "<p>28000 rows × 256 columns</p>\n",
       "</div>"
      ],
      "text/plain": [
       "            0        1        2       3        4       5       6       7    \\\n",
       "0      224862.0  15842.0  12985.0  7387.0  13132.0  5112.0  8661.0  7990.0   \n",
       "1       21802.0   2127.0   2076.0  2028.0   1871.0  1622.0  1939.0  1502.0   \n",
       "2       24407.0  11682.0   7189.0  6538.0   7687.0  6848.0  4974.0  5377.0   \n",
       "3        7132.0    461.0    647.0   371.0    581.0   269.0   646.0   262.0   \n",
       "4        5321.0   1108.0    985.0   955.0    958.0   890.0   971.0   919.0   \n",
       "...         ...      ...      ...     ...      ...     ...     ...     ...   \n",
       "27995   23849.0   1489.0   1573.0  2649.0   1560.0  1025.0   922.0  1020.0   \n",
       "27996    9267.0   1056.0    981.0   930.0   1573.0   819.0   879.0  1064.0   \n",
       "27997   25357.0    874.0   1008.0  2781.0   1518.0   939.0  4267.0   968.0   \n",
       "27998   29010.0   6476.0   2969.0  5358.0   2827.0  4598.0  2172.0  4045.0   \n",
       "27999    4956.0    185.0     74.0    92.0    133.0    94.0    56.0    46.0   \n",
       "\n",
       "           8        9    ...     246     247     248     249     250     251  \\\n",
       "0      14978.0   5656.0  ...  3714.0  2892.0  9344.0  2415.0  2742.0  3023.0   \n",
       "1       2133.0   1689.0  ...  1664.0  1607.0  1788.0  1394.0  1327.0  1453.0   \n",
       "2       7049.0  11642.0  ...  5795.0  6053.0  6426.0  5435.0  4961.0  5026.0   \n",
       "3        243.0    165.0  ...   151.0   276.0   299.0   294.0   294.0   354.0   \n",
       "4        945.0    963.0  ...   933.0   975.0   945.0   924.0   879.0   952.0   \n",
       "...        ...      ...  ...     ...     ...     ...     ...     ...     ...   \n",
       "27995   1042.0    938.0  ...   993.0   968.0  1165.0  1041.0  1258.0  1753.0   \n",
       "27996   1029.0    893.0  ...   998.0   911.0   990.0  1039.0   930.0   833.0   \n",
       "27997   1103.0   1032.0  ...   563.0   557.0   974.0   706.0   514.0   632.0   \n",
       "27998   2496.0   3718.0  ...   217.0   146.0   544.0   232.0    95.0   140.0   \n",
       "27999    145.0     93.0  ...    50.0    61.0   810.0  1109.0   109.0    62.0   \n",
       "\n",
       "           252     253     254      255  \n",
       "0      11949.0  3662.0  5552.0  77433.0  \n",
       "1       1785.0  1559.0  1755.0   4882.0  \n",
       "2       5376.0  4180.0  5685.0   5775.0  \n",
       "3        506.0   569.0   940.0   1516.0  \n",
       "4        956.0   900.0   942.0   1559.0  \n",
       "...        ...     ...     ...      ...  \n",
       "27995   1203.0   958.0  1315.0   4342.0  \n",
       "27996    904.0   891.0   976.0   2683.0  \n",
       "27997    657.0   584.0   535.0   2431.0  \n",
       "27998    294.0   163.0   182.0   4005.0  \n",
       "27999    209.0   112.0    84.0    992.0  \n",
       "\n",
       "[28000 rows x 256 columns]"
      ]
     },
     "execution_count": 2,
     "metadata": {},
     "output_type": "execute_result"
    }
   ],
   "source": [
    "features = pd.read_csv('DATA/T2_data/malware_data.csv', header=None)\n",
    "features"
   ]
  },
  {
   "cell_type": "code",
   "execution_count": 3,
   "metadata": {},
   "outputs": [
    {
     "data": {
      "text/html": [
       "<div>\n",
       "<style scoped>\n",
       "    .dataframe tbody tr th:only-of-type {\n",
       "        vertical-align: middle;\n",
       "    }\n",
       "\n",
       "    .dataframe tbody tr th {\n",
       "        vertical-align: top;\n",
       "    }\n",
       "\n",
       "    .dataframe thead th {\n",
       "        text-align: right;\n",
       "    }\n",
       "</style>\n",
       "<table border=\"1\" class=\"dataframe\">\n",
       "  <thead>\n",
       "    <tr style=\"text-align: right;\">\n",
       "      <th></th>\n",
       "      <th>label</th>\n",
       "    </tr>\n",
       "  </thead>\n",
       "  <tbody>\n",
       "    <tr>\n",
       "      <th>0</th>\n",
       "      <td>high</td>\n",
       "    </tr>\n",
       "    <tr>\n",
       "      <th>1</th>\n",
       "      <td>high</td>\n",
       "    </tr>\n",
       "    <tr>\n",
       "      <th>2</th>\n",
       "      <td>high</td>\n",
       "    </tr>\n",
       "    <tr>\n",
       "      <th>3</th>\n",
       "      <td>high</td>\n",
       "    </tr>\n",
       "    <tr>\n",
       "      <th>4</th>\n",
       "      <td>high</td>\n",
       "    </tr>\n",
       "    <tr>\n",
       "      <th>...</th>\n",
       "      <td>...</td>\n",
       "    </tr>\n",
       "    <tr>\n",
       "      <th>27995</th>\n",
       "      <td>zbot</td>\n",
       "    </tr>\n",
       "    <tr>\n",
       "      <th>27996</th>\n",
       "      <td>zbot</td>\n",
       "    </tr>\n",
       "    <tr>\n",
       "      <th>27997</th>\n",
       "      <td>zbot</td>\n",
       "    </tr>\n",
       "    <tr>\n",
       "      <th>27998</th>\n",
       "      <td>zbot</td>\n",
       "    </tr>\n",
       "    <tr>\n",
       "      <th>27999</th>\n",
       "      <td>zbot</td>\n",
       "    </tr>\n",
       "  </tbody>\n",
       "</table>\n",
       "<p>28000 rows × 1 columns</p>\n",
       "</div>"
      ],
      "text/plain": [
       "      label\n",
       "0      high\n",
       "1      high\n",
       "2      high\n",
       "3      high\n",
       "4      high\n",
       "...     ...\n",
       "27995  zbot\n",
       "27996  zbot\n",
       "27997  zbot\n",
       "27998  zbot\n",
       "27999  zbot\n",
       "\n",
       "[28000 rows x 1 columns]"
      ]
     },
     "execution_count": 3,
     "metadata": {},
     "output_type": "execute_result"
    }
   ],
   "source": [
    "labels = pd.read_csv('DATA/T2_data/malware_label.csv', header=None)\n",
    "labels = labels.drop(0, axis=1)\n",
    "labels = labels.rename(columns = {1:'label'})\n",
    "labels"
   ]
  },
  {
   "cell_type": "markdown",
   "metadata": {},
   "source": [
    "In the cells above, we have created two DataFrames: ***features*** and ***labels***.\n",
    "\n",
    "***Features***: This table contains 28000 instances of malware, where each instance of malware is characterised by 256 distinct features relating to how it performs and its impact on the associated systems.\n",
    "\n",
    "***Labels***: This table contains 28000 rows, where each row is the label of the malware class, related to the features table. There are 2000 samples of each malware varient, and 14 varients in total."
   ]
  },
  {
   "cell_type": "markdown",
   "metadata": {},
   "source": [
    "## Part 1: Developing a Classifier \"by hand\""
   ]
  },
  {
   "cell_type": "code",
   "execution_count": 4,
   "metadata": {},
   "outputs": [
    {
     "data": {
      "text/html": [
       "<div>\n",
       "<style scoped>\n",
       "    .dataframe tbody tr th:only-of-type {\n",
       "        vertical-align: middle;\n",
       "    }\n",
       "\n",
       "    .dataframe tbody tr th {\n",
       "        vertical-align: top;\n",
       "    }\n",
       "\n",
       "    .dataframe thead th {\n",
       "        text-align: right;\n",
       "    }\n",
       "</style>\n",
       "<table border=\"1\" class=\"dataframe\">\n",
       "  <thead>\n",
       "    <tr style=\"text-align: right;\">\n",
       "      <th></th>\n",
       "      <th>x</th>\n",
       "      <th>y</th>\n",
       "      <th>labels</th>\n",
       "    </tr>\n",
       "  </thead>\n",
       "  <tbody>\n",
       "    <tr>\n",
       "      <th>0</th>\n",
       "      <td>3114896.0</td>\n",
       "      <td>10815.0</td>\n",
       "      <td>wannacry</td>\n",
       "    </tr>\n",
       "    <tr>\n",
       "      <th>1</th>\n",
       "      <td>3436940.0</td>\n",
       "      <td>9551.0</td>\n",
       "      <td>wannacry</td>\n",
       "    </tr>\n",
       "    <tr>\n",
       "      <th>2</th>\n",
       "      <td>1812649.0</td>\n",
       "      <td>15343.0</td>\n",
       "      <td>wannacry</td>\n",
       "    </tr>\n",
       "    <tr>\n",
       "      <th>3</th>\n",
       "      <td>3067845.0</td>\n",
       "      <td>10541.0</td>\n",
       "      <td>wannacry</td>\n",
       "    </tr>\n",
       "    <tr>\n",
       "      <th>4</th>\n",
       "      <td>51591.0</td>\n",
       "      <td>21367.0</td>\n",
       "      <td>wannacry</td>\n",
       "    </tr>\n",
       "    <tr>\n",
       "      <th>...</th>\n",
       "      <td>...</td>\n",
       "      <td>...</td>\n",
       "      <td>...</td>\n",
       "    </tr>\n",
       "    <tr>\n",
       "      <th>145</th>\n",
       "      <td>78591.0</td>\n",
       "      <td>7734.0</td>\n",
       "      <td>razy</td>\n",
       "    </tr>\n",
       "    <tr>\n",
       "      <th>146</th>\n",
       "      <td>80429.0</td>\n",
       "      <td>5114.0</td>\n",
       "      <td>razy</td>\n",
       "    </tr>\n",
       "    <tr>\n",
       "      <th>147</th>\n",
       "      <td>2898.0</td>\n",
       "      <td>98.0</td>\n",
       "      <td>razy</td>\n",
       "    </tr>\n",
       "    <tr>\n",
       "      <th>148</th>\n",
       "      <td>183376.0</td>\n",
       "      <td>8477.0</td>\n",
       "      <td>razy</td>\n",
       "    </tr>\n",
       "    <tr>\n",
       "      <th>149</th>\n",
       "      <td>11580.0</td>\n",
       "      <td>5921.0</td>\n",
       "      <td>razy</td>\n",
       "    </tr>\n",
       "  </tbody>\n",
       "</table>\n",
       "<p>150 rows × 3 columns</p>\n",
       "</div>"
      ],
      "text/plain": [
       "             x        y    labels\n",
       "0    3114896.0  10815.0  wannacry\n",
       "1    3436940.0   9551.0  wannacry\n",
       "2    1812649.0  15343.0  wannacry\n",
       "3    3067845.0  10541.0  wannacry\n",
       "4      51591.0  21367.0  wannacry\n",
       "..         ...      ...       ...\n",
       "145    78591.0   7734.0      razy\n",
       "146    80429.0   5114.0      razy\n",
       "147     2898.0     98.0      razy\n",
       "148   183376.0   8477.0      razy\n",
       "149    11580.0   5921.0      razy\n",
       "\n",
       "[150 rows x 3 columns]"
      ]
     },
     "execution_count": 4,
     "metadata": {},
     "output_type": "execute_result"
    }
   ],
   "source": [
    "\n",
    "# DO NOT MODIFY THIS CELL - this cell is splitting the data to provide a suitable subset of data to work with for this task.\n",
    "# If you change this cell your output will differ from that expected and could impact your mark.\n",
    "\n",
    "\n",
    "mal1_index = 17000\n",
    "mal2_index = 21000\n",
    "mal3_index = 12000\n",
    "mal_range = 50\n",
    "mal_test_range = 30\n",
    "\n",
    "train_data = np.vstack([ features[mal1_index:mal1_index+mal_range][[0,1]].values, features[mal2_index:mal2_index+mal_range][[0,1]].values, features[mal3_index:mal3_index+mal_range][[0,1]].values ])\n",
    "train_data = pd.DataFrame(train_data)\n",
    "train_labels = np.vstack([ labels[mal1_index:mal1_index+mal_range].values, labels[mal2_index:mal2_index+mal_range].values, labels[mal3_index:mal3_index+mal_range].values ])\n",
    "train_labels = pd.DataFrame(train_labels)\n",
    "train_data['labels'] = train_labels\n",
    "train_data = train_data.rename(columns={0:'x', 1:'y'})\n",
    "\n",
    "test_data = np.vstack([ features[mal1_index+mal_range:mal1_index+mal_range+mal_test_range][[0,1]].values, features[mal2_index+mal_range:mal2_index+mal_range+mal_test_range][[0,1]].values, features[mal3_index+mal_range:mal3_index+mal_range+mal_test_range][[0,1]].values ])\n",
    "test_data = pd.DataFrame(test_data)\n",
    "test_labels = np.vstack([ labels[mal1_index+mal_range:mal1_index+mal_range+mal_test_range].values, labels[mal2_index+mal_range:mal2_index+mal_range+mal_test_range].values, labels[mal3_index+mal_range:mal3_index+mal_range+mal_test_range].values ])\n",
    "test_labels = pd.DataFrame(test_labels)\n",
    "test_data['labels'] = test_labels\n",
    "test_data = test_data.rename(columns={0:'x', 1:'y'})\n",
    "\n",
    "train_data"
   ]
  },
  {
   "cell_type": "code",
   "execution_count": 5,
   "metadata": {},
   "outputs": [
    {
     "data": {
      "text/plain": [
       "Text(0, 0.5, 'Feature Y')"
      ]
     },
     "execution_count": 5,
     "metadata": {},
     "output_type": "execute_result"
    },
    {
     "data": {
      "image/png": "[encoded data removed]",
      "text/plain": [
       "<Figure size 640x480 with 1 Axes>"
      ]
     },
     "metadata": {},
     "output_type": "display_data"
    }
   ],
   "source": [
    "plt.scatter(train_data['x'], train_data['y'])\n",
    "plt.xlabel('Feature X')\n",
    "plt.ylabel('Feature Y')"
   ]
  },
  {
   "cell_type": "markdown",
   "metadata": {},
   "source": [
    "### Task 1: Find the Centroid point of each of the three groups (3)"
   ]
  },
  {
   "cell_type": "code",
   "execution_count": 6,
   "metadata": {},
   "outputs": [
    {
     "data": {
      "text/plain": [
       "array(['wannacry', 'startsurf', 'razy'], dtype=object)"
      ]
     },
     "execution_count": 6,
     "metadata": {},
     "output_type": "execute_result"
    }
   ],
   "source": [
    "import pandas as pd\n",
    "df = train_data.copy() \n",
    "unique_labels=df.labels.unique()\n",
    "unique_labels"
   ]
  },
  {
   "cell_type": "code",
   "execution_count": 7,
   "metadata": {},
   "outputs": [],
   "source": [
    "wannacry_values = df[df['labels']=='wannacry']\n",
    "wannacry_mean_x = wannacry_values['x'].mean()\n",
    "wannacry_mean_y = wannacry_values['y'].mean()\n",
    "\n",
    "startsurf_values = df[df['labels'] == 'startsurf']\n",
    "startsurf_mean_x = startsurf_values['x'].mean()\n",
    "startsurf_mean_y = startsurf_values['y'].mean()\n",
    "\n",
    "razy_values = df[df['labels'] == 'razy']\n",
    "razy_mean_x = razy_values['x'].mean()\n",
    "razy_mean_y = razy_values['y'].mean()"
   ]
  },
  {
   "cell_type": "code",
   "execution_count": 8,
   "metadata": {},
   "outputs": [
    {
     "name": "stdout",
     "output_type": "stream",
     "text": [
      "wannacry values: 2181660.66, 11087.1,startsurf values: 478778.12, 3754.04, razy values: 100505.22,6158.28\n"
     ]
    }
   ],
   "source": [
    "print(f'wannacry values: {wannacry_mean_x}, {wannacry_mean_y},startsurf values: {startsurf_mean_x}, {startsurf_mean_y}, razy values: {razy_mean_x},{razy_mean_y}')"
   ]
  },
  {
   "cell_type": "markdown",
   "metadata": {},
   "source": [
    "### Task 2: Plot the centroids on a Scatter Plot against the train data colour-coded by group (3)"
   ]
  },
  {
   "cell_type": "code",
   "execution_count": 9,
   "metadata": {},
   "outputs": [],
   "source": [
    "from matplotlib import pyplot as plt\n",
    "import numpy as np"
   ]
  },
  {
   "cell_type": "code",
   "execution_count": 10,
   "metadata": {},
   "outputs": [
    {
     "data": {
      "image/png": "[encoded data removed]",
      "text/plain": [
       "<Figure size 640x480 with 1 Axes>"
      ]
     },
     "metadata": {},
     "output_type": "display_data"
    }
   ],
   "source": [
    "plt.scatter(wannacry_values['x'],wannacry_values['y'])#blue\n",
    "plt.scatter(startsurf_values['x'],startsurf_values['y'])#orange\n",
    "plt.scatter(razy_values['x'],razy_values['y'])#green\n",
    "\n",
    "plt.scatter(wannacry_mean_x, wannacry_mean_y,marker='x',color= 'blue')\n",
    "plt.scatter(startsurf_mean_x,startsurf_mean_y,marker='x', color = 'red')\n",
    "plt.scatter(razy_mean_x,razy_mean_y,marker='x', color = 'green')\n",
    "\n",
    "plt.show()"
   ]
  },
  {
   "cell_type": "markdown",
   "metadata": {},
   "source": [
    "### Task 3: For each item in test_data, measure the distance to each centroid point, assign membership to the group of minimum distance, and compare with the expected test data label to obtain a score of successful classifications (12)\n",
    "\n",
    "*Hint: You may find the clustering activity worksheet helpful for how to approach this task*"
   ]
  },
  {
   "cell_type": "code",
   "execution_count": 11,
   "metadata": {},
   "outputs": [],
   "source": [
    "import matplotlib.pyplot as plt\n",
    "import numpy as np\n",
    "import pandas as pd\n",
    "import seaborn as sns"
   ]
  },
  {
   "cell_type": "code",
   "execution_count": 12,
   "metadata": {},
   "outputs": [
    {
     "name": "stdout",
     "output_type": "stream",
     "text": [
      "group 1: [[1.478119e+06 1.057500e+04]\n",
      " [4.085568e+06 6.635000e+03]\n",
      " [2.647584e+06 1.956600e+04]\n",
      " [4.470838e+06 5.131000e+03]\n",
      " [3.080470e+06 1.198200e+04]\n",
      " [2.557845e+06 1.261400e+04]\n",
      " [2.408836e+06 1.768000e+04]\n",
      " [1.629088e+06 1.608800e+04]\n",
      " [2.029047e+06 1.453500e+04]\n",
      " [3.200482e+06 1.294100e+04]\n",
      " [2.793317e+06 4.455000e+03]\n",
      " [4.168106e+06 6.402000e+03]\n",
      " [3.365656e+06 9.376000e+03]\n",
      " [2.706358e+06 4.265400e+04]\n",
      " [3.226525e+06 1.128700e+04]\n",
      " [2.034733e+06 2.223300e+04]\n",
      " [4.454087e+06 5.911000e+03]\n",
      " [3.325408e+06 9.758000e+03]\n",
      " [1.462916e+06 2.814000e+03]\n",
      " [1.462796e+06 2.816000e+03]\n",
      " [1.462793e+06 2.799000e+03]]\n",
      "group 2: [[3.338140e+05 2.077300e+04]\n",
      " [4.372640e+05 2.106000e+04]\n",
      " [6.680820e+05 1.065500e+04]\n",
      " [3.680960e+05 7.205000e+03]\n",
      " [8.800480e+05 2.788000e+03]\n",
      " [1.000928e+06 2.835000e+03]\n",
      " [5.509660e+05 3.874000e+03]\n",
      " [7.801000e+05 7.460000e+02]\n",
      " [5.509890e+05 3.817000e+03]\n",
      " [5.510800e+05 3.851000e+03]\n",
      " [4.391890e+05 3.164000e+03]\n",
      " [1.000811e+06 2.909000e+03]\n",
      " [1.000904e+06 2.854000e+03]\n",
      " [1.135046e+06 2.705000e+03]\n",
      " [3.730080e+05 5.058000e+03]\n",
      " [1.000959e+06 2.835000e+03]\n",
      " [5.510200e+05 3.953000e+03]\n",
      " [4.295280e+05 4.049000e+03]\n",
      " [5.508220e+05 3.765000e+03]]\n",
      "group 3: [[5.37670e+04 2.14130e+04]\n",
      " [2.42440e+04 9.15200e+03]\n",
      " [5.13420e+04 2.13570e+04]\n",
      " [1.89265e+05 7.89500e+03]\n",
      " [1.82032e+05 8.04600e+03]\n",
      " [1.91968e+05 7.94100e+03]\n",
      " [2.17947e+05 1.28320e+04]\n",
      " [7.16610e+04 8.37100e+03]\n",
      " [1.10559e+05 7.19700e+03]\n",
      " [9.97310e+04 2.63100e+03]\n",
      " [1.12827e+05 2.97500e+03]\n",
      " [5.46820e+04 6.22700e+03]\n",
      " [1.12833e+05 2.92400e+03]\n",
      " [1.62017e+05 2.67200e+03]\n",
      " [4.80680e+04 6.19500e+03]\n",
      " [1.02226e+05 3.60700e+03]\n",
      " [1.02171e+05 3.65100e+03]\n",
      " [1.01088e+05 4.40000e+03]\n",
      " [1.07319e+05 9.38900e+03]\n",
      " [5.35020e+04 7.28000e+03]\n",
      " [1.83380e+05 8.47700e+03]\n",
      " [1.99580e+04 3.15400e+03]\n",
      " [1.83376e+05 8.47700e+03]\n",
      " [1.83380e+05 8.47700e+03]\n",
      " [3.59480e+04 8.86500e+03]\n",
      " [1.83380e+05 8.47700e+03]\n",
      " [4.29300e+04 1.65800e+03]\n",
      " [2.70370e+04 1.33500e+03]\n",
      " [5.22510e+04 3.89100e+03]\n",
      " [6.28400e+03 4.41000e+02]\n",
      " [5.86100e+03 1.27300e+03]\n",
      " [7.07900e+03 5.17900e+03]\n",
      " [8.19400e+03 1.99200e+03]\n",
      " [3.28600e+03 2.13000e+02]\n",
      " [1.50580e+04 1.63000e+03]\n",
      " [1.27240e+05 1.02200e+04]\n",
      " [7.18840e+04 5.43700e+03]\n",
      " [8.79000e+03 4.76900e+03]\n",
      " [1.83380e+05 8.47700e+03]\n",
      " [1.76230e+04 1.39400e+03]\n",
      " [1.57062e+05 7.88300e+03]\n",
      " [2.17870e+04 3.93300e+03]\n",
      " [5.58430e+04 4.27500e+03]\n",
      " [2.21050e+04 1.27000e+03]\n",
      " [2.87800e+03 1.78000e+02]\n",
      " [6.94180e+04 9.67300e+03]\n",
      " [8.06000e+03 1.58000e+03]\n",
      " [4.39400e+03 5.40000e+02]\n",
      " [1.83380e+05 8.47700e+03]\n",
      " [4.29450e+04 9.40100e+03]]\n"
     ]
    },
    {
     "data": {
      "text/plain": [
       "<matplotlib.collections.PathCollection at 0x27bbb1f0220>"
      ]
     },
     "execution_count": 12,
     "metadata": {},
     "output_type": "execute_result"
    },
    {
     "data": {
      "image/png": "[encoded data removed]",
      "text/plain": [
       "<Figure size 640x480 with 1 Axes>"
      ]
     },
     "metadata": {},
     "output_type": "display_data"
    }
   ],
   "source": [
    "task3_test_data = test_data.copy()\n",
    "group1= []\n",
    "group2 = []\n",
    "group3 = []\n",
    "centroids = []\n",
    "centroid_wannacry = [wannacry_mean_x, wannacry_mean_y]\n",
    "centroid_startsurf = [startsurf_mean_x, startsurf_mean_y]\n",
    "centroid_razy = [razy_mean_x,razy_mean_y]\n",
    "centroids.append(centroid_wannacry)\n",
    "centroids.append(centroid_startsurf)\n",
    "centroids.append(centroid_razy)\n",
    "centroids = np.array(centroids)\n",
    "\n",
    "\n",
    "def find_group(centroids,test_data):\n",
    "    group1 = []\n",
    "    group2 = []\n",
    "    group3 = []\n",
    "\n",
    "    for i in range(test_data.shape[0]):\n",
    "        distance1 = np.sqrt(np.abs(task3_test_data.iloc[i,0] - centroids[0,0]) ** 2 + np.abs(task3_test_data.iloc[i, 1] - centroids[0,1]) ** 2)\n",
    "        distance2 = np.sqrt(np.abs(task3_test_data.iloc[i, 0] - centroids[1,0]) ** 2 + np.abs(task3_test_data.iloc[i, 1] - centroids[1,1]) ** 2)\n",
    "        distance3 = np.sqrt(np.abs(task3_test_data.iloc[i, 0] - centroids[2,0]) ** 2 + np.abs(task3_test_data.iloc[i, 1] - centroids[2,1]) ** 2)\n",
    "        distances = [distance1, distance2, distance3]\n",
    "        # print(distances)\n",
    "        if np.argmin(distances) == 0:\n",
    "            group1.append([task3_test_data.iloc[i, 0], task3_test_data.iloc[i, 1]])\n",
    "        elif np.argmin(distances) == 1:\n",
    "            group2.append([task3_test_data.iloc[i, 0], task3_test_data.iloc[i, 1]])\n",
    "        elif np.argmin(distances) == 2:\n",
    "            group3.append([task3_test_data.iloc[i, 0], task3_test_data.iloc[i, 1]])\n",
    "    group1 = np.array(group1)\n",
    "    group2 = np.array(group2)\n",
    "    group3 = np.array(group3)\n",
    "    return group1, group2, group3\n",
    "\n",
    "group1, group2, group3 = find_group(centroids, task3_test_data)\n",
    "print (\"group 1:\", group1)\n",
    "print (\"group 2:\", group2)\n",
    "print (\"group 3:\", group3)\n",
    "\n",
    "plt.scatter(group1[:,0], group1[:,1], color='r')\n",
    "plt.scatter(group2[:,0], group2[:,1], color='g')\n",
    "plt.scatter(group3[:,0], group3[:,1], color='b')\n",
    "\n",
    "plt.scatter(centroids[0,0], centroids[0,1], marker='x', color='r')\n",
    "plt.scatter(centroids[1,0], centroids[1,1], marker='x', color='g')\n",
    "plt.scatter(centroids[2,0], centroids[2,1], marker='x', color='b')"
   ]
  },
  {
   "cell_type": "code",
   "execution_count": 13,
   "metadata": {},
   "outputs": [],
   "source": [
    "#UPDATING THE CENTROIDS"
   ]
  },
  {
   "cell_type": "code",
   "execution_count": 14,
   "metadata": {},
   "outputs": [
    {
     "data": {
      "image/png": "[encoded data removed]",
      "text/plain": [
       "<Figure size 640x480 with 1 Axes>"
      ]
     },
     "metadata": {},
     "output_type": "display_data"
    }
   ],
   "source": [
    "centroids = np.array([np.mean(group1, axis=0), np.mean(group2, axis=0), np.mean(group3, axis=0)])\n",
    "\n",
    "plt.scatter(group1[:,0], group1[:,1], color='r')\n",
    "plt.scatter(group2[:,0], group2[:,1], color='g')\n",
    "plt.scatter(group3[:,0], group3[:,1], color='b')\n",
    "\n",
    "plt.scatter(centroids[0,0], centroids[0,1], marker='x', color='r')\n",
    "plt.scatter(centroids[1,0], centroids[1,1], marker='x', color='g')\n",
    "plt.scatter(centroids[2,0], centroids[2,1], marker='x', color='b')\n",
    "\n",
    "plt.show()"
   ]
  },
  {
   "cell_type": "code",
   "execution_count": 15,
   "metadata": {},
   "outputs": [],
   "source": [
    "#Second Pass"
   ]
  },
  {
   "cell_type": "code",
   "execution_count": 16,
   "metadata": {},
   "outputs": [
    {
     "data": {
      "image/png": "[encoded data removed]",
      "text/plain": [
       "<Figure size 640x480 with 1 Axes>"
      ]
     },
     "metadata": {},
     "output_type": "display_data"
    }
   ],
   "source": [
    "test_data = np.vstack([group1, group2, group3])\n",
    "group1, group2, group3 = find_group(centroids, test_data)\n",
    "\n",
    "plt.scatter(group1[:,0], group1[:,1], color='r')\n",
    "plt.scatter(group2[:,0], group2[:,1], color='g')\n",
    "plt.scatter(group3[:,0], group3[:,1], color='b')\n",
    "\n",
    "plt.scatter(centroids[0,0], centroids[0,1], marker='x', color='r')\n",
    "plt.scatter(centroids[1,0], centroids[1,1], marker='x', color='g')\n",
    "plt.scatter(centroids[2,0], centroids[2,1], marker='x', color='b')\n",
    "\n",
    "plt.show()"
   ]
  },
  {
   "cell_type": "code",
   "execution_count": 17,
   "metadata": {},
   "outputs": [],
   "source": [
    "#UPDATING CENTROIDS"
   ]
  },
  {
   "cell_type": "code",
   "execution_count": 18,
   "metadata": {},
   "outputs": [
    {
     "data": {
      "image/png": "[encoded data removed]",
      "text/plain": [
       "<Figure size 640x480 with 1 Axes>"
      ]
     },
     "metadata": {},
     "output_type": "display_data"
    }
   ],
   "source": [
    "centroids = np.array([np.mean(group1, axis=0), np.mean(group2, axis=0), np.mean(group3, axis=0)])\n",
    "\n",
    "plt.scatter(group1[:,0], group1[:,1], color='r')\n",
    "plt.scatter(group2[:,0], group2[:,1], color='g')\n",
    "plt.scatter(group3[:,0], group3[:,1], color='b')\n",
    "\n",
    "plt.scatter(centroids[0,0], centroids[0,1], marker='x', color='r')\n",
    "plt.scatter(centroids[1,0], centroids[1,1], marker='x', color='g')\n",
    "plt.scatter(centroids[2,0], centroids[2,1], marker='x', color='b')\n",
    "\n",
    "plt.show()"
   ]
  },
  {
   "cell_type": "code",
   "execution_count": 19,
   "metadata": {},
   "outputs": [],
   "source": [
    "#THIRD PASS"
   ]
  },
  {
   "cell_type": "code",
   "execution_count": 20,
   "metadata": {},
   "outputs": [
    {
     "data": {
      "image/png": "[encoded data removed]",
      "text/plain": [
       "<Figure size 640x480 with 1 Axes>"
      ]
     },
     "metadata": {},
     "output_type": "display_data"
    }
   ],
   "source": [
    "test_data = np.vstack([group1, group2, group3])\n",
    "group1, group2, group3 = find_group(centroids, test_data)\n",
    "\n",
    "plt.scatter(group1[:,0], group1[:,1], color='r')\n",
    "plt.scatter(group2[:,0], group2[:,1], color='g')\n",
    "plt.scatter(group3[:,0], group3[:,1], color='b')\n",
    "\n",
    "plt.scatter(centroids[0,0], centroids[0,1], marker='x', color='r')\n",
    "plt.scatter(centroids[1,0], centroids[1,1], marker='x', color='g')\n",
    "plt.scatter(centroids[2,0], centroids[2,1], marker='x', color='b')\n",
    "\n",
    "plt.show()"
   ]
  },
  {
   "cell_type": "code",
   "execution_count": 21,
   "metadata": {},
   "outputs": [],
   "source": [
    "#RESULT"
   ]
  },
  {
   "cell_type": "code",
   "execution_count": 22,
   "metadata": {},
   "outputs": [
    {
     "data": {
      "image/png": "[encoded data removed]",
      "text/plain": [
       "<Figure size 640x480 with 1 Axes>"
      ]
     },
     "metadata": {},
     "output_type": "display_data"
    }
   ],
   "source": [
    "test_data = np.vstack([group1, group2, group3])\n",
    "group1, group2, group3 = find_group(centroids, test_data)\n",
    "\n",
    "plt.scatter(group1[:,0], group1[:,1], color='r')\n",
    "plt.scatter(group2[:,0], group2[:,1], color='g')\n",
    "plt.scatter(group3[:,0], group3[:,1], color='b')\n",
    "\n",
    "plt.scatter(centroids[0,0], centroids[0,1], marker='x', color='r')\n",
    "plt.scatter(centroids[1,0], centroids[1,1], marker='x', color='g')\n",
    "plt.scatter(centroids[2,0], centroids[2,1], marker='x', color='b')\n",
    "figsize=(20,10)\n",
    "plt.show()"
   ]
  },
  {
   "cell_type": "code",
   "execution_count": 23,
   "metadata": {},
   "outputs": [
    {
     "data": {
      "image/png": "[encoded data removed]",
      "text/plain": [
       "<Figure size 640x480 with 1 Axes>"
      ]
     },
     "metadata": {},
     "output_type": "display_data"
    }
   ],
   "source": [
    "centroids = np.array([np.mean(group1, axis=0), np.mean(group2, axis=0), np.mean(group3, axis=0)])\n",
    "\n",
    "plt.scatter(group1[:,0], group1[:,1], color='r')\n",
    "plt.scatter(group2[:,0], group2[:,1], color='g')\n",
    "plt.scatter(group3[:,0], group3[:,1], color='b')\n",
    "\n",
    "plt.scatter(centroids[0,0], centroids[0,1], marker='x', color='r')\n",
    "plt.scatter(centroids[1,0], centroids[1,1], marker='x', color='g')\n",
    "plt.scatter(centroids[2,0], centroids[2,1], marker='x', color='b')\n",
    "\n",
    "plt.show()"
   ]
  },
  {
   "cell_type": "code",
   "execution_count": 24,
   "metadata": {},
   "outputs": [
    {
     "data": {
      "text/plain": [
       "array([[3159678.75      ,   13322.5       ],\n",
       "       [ 984303.72222222,    4593.27777778],\n",
       "       [ 115434.625     ,    6401.96428571]])"
      ]
     },
     "execution_count": 24,
     "metadata": {},
     "output_type": "execute_result"
    },
    {
     "data": {
      "image/png": "[encoded data removed]",
      "text/plain": [
       "<Figure size 640x480 with 1 Axes>"
      ]
     },
     "metadata": {},
     "output_type": "display_data"
    }
   ],
   "source": [
    "#new centroids\n",
    "plt.scatter(centroids[0,0], centroids[0,1], marker='x', color='r')\n",
    "plt.scatter(centroids[1,0], centroids[1,1], marker='x', color='g')\n",
    "plt.scatter(centroids[2,0], centroids[2,1], marker='x', color='b')\n",
    "centroids"
   ]
  },
  {
   "cell_type": "code",
   "execution_count": 26,
   "metadata": {},
   "outputs": [
    {
     "data": {
      "text/plain": [
       "array([[2181660.66,   11087.1 ],\n",
       "       [ 478778.12,    3754.04],\n",
       "       [ 100505.22,    6158.28]])"
      ]
     },
     "execution_count": 26,
     "metadata": {},
     "output_type": "execute_result"
    },
    {
     "data": {
      "image/png": "[encoded data removed]",
      "text/plain": [
       "<Figure size 640x480 with 1 Axes>"
      ]
     },
     "metadata": {},
     "output_type": "display_data"
    }
   ],
   "source": [
    "#centroids in task2\n",
    "plt.scatter(wannacry_mean_x, wannacry_mean_y,marker='x',color= 'red')\n",
    "plt.scatter(startsurf_mean_x,startsurf_mean_y,marker='x', color = 'green')\n",
    "plt.scatter(razy_mean_x,razy_mean_y,marker='x', color = 'blue')\n",
    "wannacry_centroids = (wannacry_mean_x, wannacry_mean_y)\n",
    "startsurf_centroids = (startsurf_mean_x,startsurf_mean_y)\n",
    "razy_centroids = (razy_mean_x, razy_mean_y)\n",
    "old_centroids = np.array([wannacry_centroids])\n",
    "old_centroids = np.append(old_centroids,[startsurf_centroids],axis=0)\n",
    "old_centroids = np.append(old_centroids,[razy_centroids],axis=0)\n",
    "old_centroids"
   ]
  },
  {
   "cell_type": "code",
   "execution_count": 27,
   "metadata": {},
   "outputs": [
    {
     "data": {
      "text/plain": [
       "array([[False, False],\n",
       "       [False, False],\n",
       "       [False, False]])"
      ]
     },
     "execution_count": 27,
     "metadata": {},
     "output_type": "execute_result"
    }
   ],
   "source": [
    "comparison = old_centroids == centroids \n",
    "equal_arrays = comparison.all()\n",
    "comparison\n"
   ]
  },
  {
   "cell_type": "markdown",
   "metadata": {},
   "source": [
    "### Task 4: Provide a final accuracy score for the performance of your \"by hand\" classifier (2)"
   ]
  },
  {
   "cell_type": "code",
   "execution_count": 28,
   "metadata": {},
   "outputs": [
    {
     "data": {
      "text/plain": [
       "array([[3159678.75      ,   13322.5       ],\n",
       "       [ 984303.72222222,    4593.27777778],\n",
       "       [ 115434.625     ,    6401.96428571]])"
      ]
     },
     "execution_count": 28,
     "metadata": {},
     "output_type": "execute_result"
    },
    {
     "data": {
      "image/png": "[encoded data removed]",
      "text/plain": [
       "<Figure size 640x480 with 1 Axes>"
      ]
     },
     "metadata": {},
     "output_type": "display_data"
    }
   ],
   "source": [
    "#centroids\n",
    "plt.scatter(centroids[0,0], centroids[0,1], marker='x', color='r')\n",
    "plt.scatter(centroids[1,0], centroids[1,1], marker='x', color='g')\n",
    "plt.scatter(centroids[2,0], centroids[2,1], marker='x', color='b')\n",
    "centroids"
   ]
  },
  {
   "cell_type": "code",
   "execution_count": 28,
   "metadata": {},
   "outputs": [
    {
     "name": "stdout",
     "output_type": "stream",
     "text": [
      "59\n"
     ]
    }
   ],
   "source": [
    "score = 0\n",
    "\n",
    "for i in range(test_data.shape[0]):\n",
    "    distance1 = np.sqrt(np.abs(task3_test_data.iloc[i,0] - centroids[0,0]) ** 2 + np.abs(task3_test_data.iloc[i, 1] - centroids[0,1]) ** 2)\n",
    "    distance2 = np.sqrt(np.abs(task3_test_data.iloc[i, 0] - centroids[1,0]) ** 2 + np.abs(task3_test_data.iloc[i, 1] - centroids[1,1]) ** 2)\n",
    "    distance3 = np.sqrt(np.abs(task3_test_data.iloc[i, 0] - centroids[2,0]) ** 2 + np.abs(task3_test_data.iloc[i, 1] - centroids[2,1]) ** 2)\n",
    "    distances = [distance1, distance2, distance3]\n",
    "    predicted = np.argmin(distances)\n",
    "    labels= ['wannacry','startsurf','razy']\n",
    "    if labels[predicted] == task3_test_data.iloc[i,2]:\n",
    "        score = score+1\n",
    "\n",
    "print(score)\n"
   ]
  },
  {
   "cell_type": "markdown",
   "metadata": {},
   "source": [
    "## Part 2: Developing a large-scale ML classifier\n",
    "\n",
    "We will now extend the earlier principles for the full dataset. Essentially the task is the same, we want to find the parameters that allow us to clearly separate groups for classification."
   ]
  },
  {
   "cell_type": "markdown",
   "metadata": {
    "tags": []
   },
   "source": [
    "### Task 5: Scale the Input Features for further processing using the StandardScaler function (1)"
   ]
  },
  {
   "cell_type": "code",
   "execution_count": 30,
   "metadata": {},
   "outputs": [],
   "source": [
    "from sklearn.datasets import load_iris\n",
    "from sklearn.preprocessing import StandardScaler\n",
    "import pandas as pd"
   ]
  },
  {
   "cell_type": "code",
   "execution_count": 31,
   "metadata": {},
   "outputs": [
    {
     "data": {
      "text/html": [
       "<div>\n",
       "<style scoped>\n",
       "    .dataframe tbody tr th:only-of-type {\n",
       "        vertical-align: middle;\n",
       "    }\n",
       "\n",
       "    .dataframe tbody tr th {\n",
       "        vertical-align: top;\n",
       "    }\n",
       "\n",
       "    .dataframe thead th {\n",
       "        text-align: right;\n",
       "    }\n",
       "</style>\n",
       "<table border=\"1\" class=\"dataframe\">\n",
       "  <thead>\n",
       "    <tr style=\"text-align: right;\">\n",
       "      <th></th>\n",
       "      <th>x</th>\n",
       "      <th>y</th>\n",
       "      <th>labels</th>\n",
       "    </tr>\n",
       "  </thead>\n",
       "  <tbody>\n",
       "    <tr>\n",
       "      <th>0</th>\n",
       "      <td>3114896.0</td>\n",
       "      <td>10815.0</td>\n",
       "      <td>wannacry</td>\n",
       "    </tr>\n",
       "    <tr>\n",
       "      <th>1</th>\n",
       "      <td>3436940.0</td>\n",
       "      <td>9551.0</td>\n",
       "      <td>wannacry</td>\n",
       "    </tr>\n",
       "    <tr>\n",
       "      <th>2</th>\n",
       "      <td>1812649.0</td>\n",
       "      <td>15343.0</td>\n",
       "      <td>wannacry</td>\n",
       "    </tr>\n",
       "    <tr>\n",
       "      <th>3</th>\n",
       "      <td>3067845.0</td>\n",
       "      <td>10541.0</td>\n",
       "      <td>wannacry</td>\n",
       "    </tr>\n",
       "    <tr>\n",
       "      <th>4</th>\n",
       "      <td>51591.0</td>\n",
       "      <td>21367.0</td>\n",
       "      <td>wannacry</td>\n",
       "    </tr>\n",
       "    <tr>\n",
       "      <th>...</th>\n",
       "      <td>...</td>\n",
       "      <td>...</td>\n",
       "      <td>...</td>\n",
       "    </tr>\n",
       "    <tr>\n",
       "      <th>145</th>\n",
       "      <td>78591.0</td>\n",
       "      <td>7734.0</td>\n",
       "      <td>razy</td>\n",
       "    </tr>\n",
       "    <tr>\n",
       "      <th>146</th>\n",
       "      <td>80429.0</td>\n",
       "      <td>5114.0</td>\n",
       "      <td>razy</td>\n",
       "    </tr>\n",
       "    <tr>\n",
       "      <th>147</th>\n",
       "      <td>2898.0</td>\n",
       "      <td>98.0</td>\n",
       "      <td>razy</td>\n",
       "    </tr>\n",
       "    <tr>\n",
       "      <th>148</th>\n",
       "      <td>183376.0</td>\n",
       "      <td>8477.0</td>\n",
       "      <td>razy</td>\n",
       "    </tr>\n",
       "    <tr>\n",
       "      <th>149</th>\n",
       "      <td>11580.0</td>\n",
       "      <td>5921.0</td>\n",
       "      <td>razy</td>\n",
       "    </tr>\n",
       "  </tbody>\n",
       "</table>\n",
       "<p>150 rows × 3 columns</p>\n",
       "</div>"
      ],
      "text/plain": [
       "             x        y    labels\n",
       "0    3114896.0  10815.0  wannacry\n",
       "1    3436940.0   9551.0  wannacry\n",
       "2    1812649.0  15343.0  wannacry\n",
       "3    3067845.0  10541.0  wannacry\n",
       "4      51591.0  21367.0  wannacry\n",
       "..         ...      ...       ...\n",
       "145    78591.0   7734.0      razy\n",
       "146    80429.0   5114.0      razy\n",
       "147     2898.0     98.0      razy\n",
       "148   183376.0   8477.0      razy\n",
       "149    11580.0   5921.0      razy\n",
       "\n",
       "[150 rows x 3 columns]"
      ]
     },
     "execution_count": 31,
     "metadata": {},
     "output_type": "execute_result"
    }
   ],
   "source": [
    "train_data"
   ]
  },
  {
   "cell_type": "code",
   "execution_count": 32,
   "metadata": {},
   "outputs": [
    {
     "name": "stdout",
     "output_type": "stream",
     "text": [
      "[[-0.0978198   0.67215876  0.82663021 ...  0.1357412   0.17814439\n",
      "   0.40617301]\n",
      " [-0.35508456 -0.29156716 -0.27456922 ... -0.16889972 -0.21809863\n",
      "  -0.2386657 ]\n",
      " [-0.35178418  0.37984379  0.24155808 ...  0.21077877  0.19202385\n",
      "  -0.23072864]\n",
      " ...\n",
      " [-0.35058059 -0.37961299 -0.38237754 ... -0.31013839 -0.34541401\n",
      "  -0.26045037]\n",
      " [-0.34595246  0.01402847 -0.18442612 ... -0.37112451 -0.38225198\n",
      "  -0.24646054]\n",
      " [-0.37642742 -0.42802765 -0.47665936 ... -0.37851238 -0.39247895\n",
      "  -0.27324031]] <class 'numpy.ndarray'>\n"
     ]
    }
   ],
   "source": [
    "object= StandardScaler()\n",
    "scale = object.fit_transform(features) \n",
    "print(scale, type(scale))"
   ]
  },
  {
   "cell_type": "markdown",
   "metadata": {},
   "source": [
    "### Task 6: Obtain numerical labels for each class using the LabelEncoder function (1)"
   ]
  },
  {
   "cell_type": "code",
   "execution_count": 33,
   "metadata": {},
   "outputs": [
    {
     "data": {
      "text/html": [
       "<div>\n",
       "<style scoped>\n",
       "    .dataframe tbody tr th:only-of-type {\n",
       "        vertical-align: middle;\n",
       "    }\n",
       "\n",
       "    .dataframe tbody tr th {\n",
       "        vertical-align: top;\n",
       "    }\n",
       "\n",
       "    .dataframe thead th {\n",
       "        text-align: right;\n",
       "    }\n",
       "</style>\n",
       "<table border=\"1\" class=\"dataframe\">\n",
       "  <thead>\n",
       "    <tr style=\"text-align: right;\">\n",
       "      <th></th>\n",
       "      <th>label</th>\n",
       "    </tr>\n",
       "  </thead>\n",
       "  <tbody>\n",
       "    <tr>\n",
       "      <th>0</th>\n",
       "      <td>high</td>\n",
       "    </tr>\n",
       "    <tr>\n",
       "      <th>1</th>\n",
       "      <td>high</td>\n",
       "    </tr>\n",
       "    <tr>\n",
       "      <th>2</th>\n",
       "      <td>high</td>\n",
       "    </tr>\n",
       "    <tr>\n",
       "      <th>3</th>\n",
       "      <td>high</td>\n",
       "    </tr>\n",
       "    <tr>\n",
       "      <th>4</th>\n",
       "      <td>high</td>\n",
       "    </tr>\n",
       "    <tr>\n",
       "      <th>...</th>\n",
       "      <td>...</td>\n",
       "    </tr>\n",
       "    <tr>\n",
       "      <th>27995</th>\n",
       "      <td>zbot</td>\n",
       "    </tr>\n",
       "    <tr>\n",
       "      <th>27996</th>\n",
       "      <td>zbot</td>\n",
       "    </tr>\n",
       "    <tr>\n",
       "      <th>27997</th>\n",
       "      <td>zbot</td>\n",
       "    </tr>\n",
       "    <tr>\n",
       "      <th>27998</th>\n",
       "      <td>zbot</td>\n",
       "    </tr>\n",
       "    <tr>\n",
       "      <th>27999</th>\n",
       "      <td>zbot</td>\n",
       "    </tr>\n",
       "  </tbody>\n",
       "</table>\n",
       "<p>28000 rows × 1 columns</p>\n",
       "</div>"
      ],
      "text/plain": [
       "      label\n",
       "0      high\n",
       "1      high\n",
       "2      high\n",
       "3      high\n",
       "4      high\n",
       "...     ...\n",
       "27995  zbot\n",
       "27996  zbot\n",
       "27997  zbot\n",
       "27998  zbot\n",
       "27999  zbot\n",
       "\n",
       "[28000 rows x 1 columns]"
      ]
     },
     "execution_count": 33,
     "metadata": {},
     "output_type": "execute_result"
    }
   ],
   "source": [
    "labels = pd.read_csv('DATA/T2_data/malware_label.csv', header=None)\n",
    "labels = labels.drop(0, axis=1)\n",
    "labels = labels.rename(columns = {1:'label'})\n",
    "labels"
   ]
  },
  {
   "cell_type": "code",
   "execution_count": 34,
   "metadata": {},
   "outputs": [
    {
     "data": {
      "text/plain": [
       "(array([ 7,  7,  7, ..., 13, 13, 13]), numpy.ndarray)"
      ]
     },
     "execution_count": 34,
     "metadata": {},
     "output_type": "execute_result"
    }
   ],
   "source": [
    "from sklearn.preprocessing import LabelEncoder\n",
    "\n",
    "\n",
    "lab = LabelEncoder()\n",
    "le_labs = lab.fit_transform(labels['label'])\n",
    "le_labs, type(le_labs)"
   ]
  },
  {
   "cell_type": "markdown",
   "metadata": {},
   "source": [
    "### (Advanced) Task 7: Prepare the dataset for ML testing, using the Train-Test-Split function of sklearn (2)"
   ]
  },
  {
   "cell_type": "code",
   "execution_count": 35,
   "metadata": {},
   "outputs": [],
   "source": [
    "import numpy as np\n",
    "import pandas as pd\n",
    "from sklearn.model_selection import train_test_split"
   ]
  },
  {
   "cell_type": "code",
   "execution_count": 36,
   "metadata": {},
   "outputs": [
    {
     "data": {
      "text/html": [
       "<div>\n",
       "<style scoped>\n",
       "    .dataframe tbody tr th:only-of-type {\n",
       "        vertical-align: middle;\n",
       "    }\n",
       "\n",
       "    .dataframe tbody tr th {\n",
       "        vertical-align: top;\n",
       "    }\n",
       "\n",
       "    .dataframe thead th {\n",
       "        text-align: right;\n",
       "    }\n",
       "</style>\n",
       "<table border=\"1\" class=\"dataframe\">\n",
       "  <thead>\n",
       "    <tr style=\"text-align: right;\">\n",
       "      <th></th>\n",
       "      <th>x</th>\n",
       "      <th>y</th>\n",
       "      <th>labels</th>\n",
       "    </tr>\n",
       "  </thead>\n",
       "  <tbody>\n",
       "    <tr>\n",
       "      <th>0</th>\n",
       "      <td>3114896.0</td>\n",
       "      <td>10815.0</td>\n",
       "      <td>wannacry</td>\n",
       "    </tr>\n",
       "    <tr>\n",
       "      <th>1</th>\n",
       "      <td>3436940.0</td>\n",
       "      <td>9551.0</td>\n",
       "      <td>wannacry</td>\n",
       "    </tr>\n",
       "    <tr>\n",
       "      <th>2</th>\n",
       "      <td>1812649.0</td>\n",
       "      <td>15343.0</td>\n",
       "      <td>wannacry</td>\n",
       "    </tr>\n",
       "    <tr>\n",
       "      <th>3</th>\n",
       "      <td>3067845.0</td>\n",
       "      <td>10541.0</td>\n",
       "      <td>wannacry</td>\n",
       "    </tr>\n",
       "    <tr>\n",
       "      <th>4</th>\n",
       "      <td>51591.0</td>\n",
       "      <td>21367.0</td>\n",
       "      <td>wannacry</td>\n",
       "    </tr>\n",
       "    <tr>\n",
       "      <th>...</th>\n",
       "      <td>...</td>\n",
       "      <td>...</td>\n",
       "      <td>...</td>\n",
       "    </tr>\n",
       "    <tr>\n",
       "      <th>145</th>\n",
       "      <td>78591.0</td>\n",
       "      <td>7734.0</td>\n",
       "      <td>razy</td>\n",
       "    </tr>\n",
       "    <tr>\n",
       "      <th>146</th>\n",
       "      <td>80429.0</td>\n",
       "      <td>5114.0</td>\n",
       "      <td>razy</td>\n",
       "    </tr>\n",
       "    <tr>\n",
       "      <th>147</th>\n",
       "      <td>2898.0</td>\n",
       "      <td>98.0</td>\n",
       "      <td>razy</td>\n",
       "    </tr>\n",
       "    <tr>\n",
       "      <th>148</th>\n",
       "      <td>183376.0</td>\n",
       "      <td>8477.0</td>\n",
       "      <td>razy</td>\n",
       "    </tr>\n",
       "    <tr>\n",
       "      <th>149</th>\n",
       "      <td>11580.0</td>\n",
       "      <td>5921.0</td>\n",
       "      <td>razy</td>\n",
       "    </tr>\n",
       "  </tbody>\n",
       "</table>\n",
       "<p>150 rows × 3 columns</p>\n",
       "</div>"
      ],
      "text/plain": [
       "             x        y    labels\n",
       "0    3114896.0  10815.0  wannacry\n",
       "1    3436940.0   9551.0  wannacry\n",
       "2    1812649.0  15343.0  wannacry\n",
       "3    3067845.0  10541.0  wannacry\n",
       "4      51591.0  21367.0  wannacry\n",
       "..         ...      ...       ...\n",
       "145    78591.0   7734.0      razy\n",
       "146    80429.0   5114.0      razy\n",
       "147     2898.0     98.0      razy\n",
       "148   183376.0   8477.0      razy\n",
       "149    11580.0   5921.0      razy\n",
       "\n",
       "[150 rows x 3 columns]"
      ]
     },
     "execution_count": 36,
     "metadata": {},
     "output_type": "execute_result"
    }
   ],
   "source": [
    "train_data"
   ]
  },
  {
   "cell_type": "code",
   "execution_count": 37,
   "metadata": {},
   "outputs": [],
   "source": [
    "#training\n",
    "X = scale\n",
    "y = le_labs\n",
    "X_train, X_test, y_train, y_test = train_test_split(X,y , random_state=100,test_size=0.25, shuffle=True)"
   ]
  },
  {
   "cell_type": "code",
   "execution_count": 38,
   "metadata": {},
   "outputs": [
    {
     "name": "stdout",
     "output_type": "stream",
     "text": [
      "X_train : \n",
      "[ 3.98420544e-02 -1.83424672e-01 -2.20160340e-01 -1.84738100e-01\n",
      " -1.58716514e-01 -1.22564728e-01 -1.12878806e-01 -1.09383733e-01\n",
      " -1.28636883e-01 -5.86480526e-02 -8.49137718e-02 -5.34577170e-02\n",
      " -7.01692717e-02 -2.31583109e-02 -3.90791375e-02 -2.53071620e-03\n",
      " -1.68846051e-01 -4.32324061e-02 -3.70491715e-02 -5.06136738e-02\n",
      " -1.18166857e-01 -7.73802182e-02 -4.46855852e-02 -3.49695741e-02\n",
      " -1.03059460e-01 -3.41012825e-02 -1.35919490e-02 -2.48703288e-02\n",
      " -7.59886281e-02 -2.66661785e-02 -3.44120190e-02 -4.75080729e-02\n",
      " -7.74020056e-02 -3.29465998e-02 -5.04067693e-02 -4.47101766e-02\n",
      " -2.19248253e-01 -4.55483961e-02 -4.83380943e-02 -4.12612623e-02\n",
      " -7.40365498e-02 -2.29256648e-02 -4.72353026e-02 -8.42085346e-02\n",
      " -1.44217217e-01  1.22567035e-02 -6.43751752e-02 -4.82929420e-02\n",
      " -2.14954301e-02 -2.04514835e-02 -2.32886669e-02 -2.99178591e-02\n",
      " -2.57052789e-02 -2.48245753e-02 -1.96168479e-02 -2.36682380e-02\n",
      " -2.94621702e-02 -2.44364610e-02 -6.81645717e-02 -7.88423299e-02\n",
      " -6.35399543e-02 -5.14711342e-02 -5.61024742e-02 -9.98478036e-02\n",
      " -1.73123360e-01 -9.48657295e-03 -2.10750191e-02 -5.79484898e-02\n",
      " -4.55021100e-02  8.99902383e-02 -2.91701161e-02 -3.32994533e-02\n",
      " -3.51466816e-02 -2.47350038e-02 -2.80973692e-02 -2.48009911e-02\n",
      " -2.60071662e-02  5.62525422e-03 -2.10760634e-02 -2.23652067e-02\n",
      " -2.81619769e-02 -2.15312010e-02 -2.37626739e-02 -2.95028486e-02\n",
      " -2.45551579e-02 -2.46379651e-02 -1.30008416e-01 -2.15530273e-02\n",
      " -2.07377104e-02 -1.57440331e-02 -1.90677489e-02 -7.93792565e-02\n",
      " -5.88734479e-02 -3.40402317e-02 -9.36788225e-02 -8.62263756e-02\n",
      " -1.11101596e-02 -2.47574525e-02 -1.55178834e-02 -2.25308779e-02\n",
      " -9.26085288e-02 -2.87422054e-02 -1.89666569e-02 -1.46094271e-02\n",
      " -2.35070575e-02 -2.39076029e-02 -1.85641675e-02 -1.59535175e-02\n",
      " -3.07521544e-02 -2.10406183e-02 -4.26116757e-02 -3.45284742e-02\n",
      " -1.53925859e-02 -1.44772765e-02 -3.33549986e-02 -2.16041027e-02\n",
      " -3.08979547e-02 -1.76684034e-02 -1.56832770e-02 -1.53003679e-02\n",
      " -1.67610627e-02 -1.86685731e-02 -1.50067912e-02 -5.67280830e-03\n",
      " -6.12858183e-02 -1.83634778e-03 -1.85283003e-02  1.72750029e-02\n",
      " -1.34336777e-01 -4.82900707e-02 -6.90319290e-03 -1.63933437e-02\n",
      " -1.20981925e-01 -1.12471113e-02 -3.38093662e-02 -1.96390203e-03\n",
      " -7.30358206e-02  7.23890875e-02 -9.51324645e-02 -4.71790294e-02\n",
      " -5.19095709e-02 -1.03120904e-01 -5.66080400e-03  3.72238505e-03\n",
      " -1.62303147e-01 -5.00297495e-03 -1.23397640e-02  1.35381695e-02\n",
      " -1.60367106e-02 -2.09048862e-04  1.91044136e-02  9.05908452e-03\n",
      "  2.73628664e-02  1.64555214e-02  1.20537148e-02  3.06512571e-02\n",
      "  2.18337515e-02  2.40082988e-02  4.03718238e-03  4.19254646e-02\n",
      "  5.06897252e-02  2.70903358e-02  1.46890172e-02  5.23764990e-03\n",
      "  1.54876050e-02  3.29103851e-02  3.02708133e-02  9.13181673e-03\n",
      "  5.75289736e-02  4.86711059e-02  1.25926964e-02  8.52366403e-03\n",
      "  2.75644638e-02  8.86155748e-02 -3.27119291e-02  3.04582193e-03\n",
      "  5.58667694e-02  8.85193659e-02  1.33560178e-02  2.04116092e-02\n",
      "  9.67037474e-03  5.93312465e-02  6.32580858e-02 -6.20024978e-03\n",
      " -5.00589089e-02  3.18113237e-02  2.39083584e-02 -1.26881115e-03\n",
      " -1.33365441e-02  2.07008644e-02  3.57537387e-02 -2.24345433e-02\n",
      " -6.21374430e-02  6.47611390e-02  6.61141159e-01 -4.52517991e-02\n",
      " -1.20617054e-01  2.48142690e-02 -4.94065472e-02 -9.68032764e-02\n",
      " -8.80402529e-03 -5.47792101e-03  3.96668527e-02  1.56442567e-03\n",
      " -1.48525101e-01  3.95075108e-02 -4.64319479e-02  9.27056246e-03\n",
      " -4.31898097e-02 -2.41464164e-02 -5.74581500e-02 -4.57886474e-02\n",
      " -9.59521015e-03 -1.15125782e-02 -3.02688686e-02 -4.32200732e-02\n",
      " -6.08804255e-02  6.30570727e-03 -2.59366113e-02 -4.70326750e-02\n",
      "  2.41339716e-03 -4.42238046e-04 -2.13234516e-02 -3.47923468e-02\n",
      "  2.48477341e-02 -2.39451966e-02 -4.48013680e-02  4.78484417e-03\n",
      " -5.39588239e-03  2.85606642e-02 -1.31499014e-02 -4.53467370e-02\n",
      " -1.54553920e-01 -3.72987251e-02 -2.60573246e-02 -2.34587327e-02\n",
      "  2.50053200e-02 -1.33004983e-02 -1.71657632e-02 -4.08256985e-02\n",
      " -5.16405154e-02 -3.87214309e-02 -2.57309324e-02 -3.29805791e-02\n",
      " -1.17854311e-02 -4.64823807e-02 -4.55325490e-02 -5.58307227e-02\n",
      " -8.41268202e-02 -5.37922897e-02 -5.03384125e-02 -8.18980634e-02\n",
      " -3.30903374e-02 -6.21377832e-02 -1.42857330e-01 -1.78786736e-01]\n",
      "(21000, 256)\n"
     ]
    }
   ],
   "source": [
    "print('X_train : ')\n",
    "print(X_train[0])\n",
    "print(X_train.shape)\n",
    "# print('')\n",
    "# print('X_test : ')\n",
    "# print(X_test.head())\n",
    "# print(X_test.shape)\n",
    " \n",
    "# print('')\n",
    "# print('y_train : ')\n",
    "# print(y_train.head())\n",
    "# print(y_train.shape)\n",
    " \n",
    "# print('')\n",
    "# print('y_test : ')\n",
    "# print(y_test.head())\n",
    "# print(y_test.shape)"
   ]
  },
  {
   "cell_type": "markdown",
   "metadata": {},
   "source": [
    "### (Advanced) Task 8: Use a Multi-Layer Perceptron (MLP) classifier to train a machine learning model, and obtain the accuracy score against your test data. (4)"
   ]
  },
  {
   "cell_type": "code",
   "execution_count": 39,
   "metadata": {},
   "outputs": [],
   "source": [
    "from sklearn.preprocessing import StandardScaler  \n",
    "from sklearn.neural_network import MLPClassifier\n",
    "from sklearn import metrics\n",
    "import matplotlib.pyplot as plt\n",
    "from sklearn.model_selection import train_test_split\n",
    "from sklearn.neural_network import MLPRegressor\n",
    "from sklearn.metrics import accuracy_score"
   ]
  },
  {
   "cell_type": "code",
   "execution_count": 40,
   "metadata": {},
   "outputs": [
    {
     "data": {
      "text/plain": [
       "array([ 9, 12, 12, ...,  6,  5,  1])"
      ]
     },
     "execution_count": 40,
     "metadata": {},
     "output_type": "execute_result"
    }
   ],
   "source": [
    "X_train\n",
    "y_train"
   ]
  },
  {
   "cell_type": "code",
   "execution_count": 41,
   "metadata": {},
   "outputs": [
    {
     "name": "stdout",
     "output_type": "stream",
     "text": [
      "MLPClassifier()\n"
     ]
    }
   ],
   "source": [
    "model = MLPClassifier()\n",
    "mlp_model = model.fit(X_train, y_train)\n",
    "print(mlp_model)\n",
    "\n",
    "expected_y  = y_test\n",
    "predicted_y = mlp_model.predict(X_test)"
   ]
  },
  {
   "cell_type": "code",
   "execution_count": 42,
   "metadata": {},
   "outputs": [
    {
     "name": "stdout",
     "output_type": "stream",
     "text": [
      "              precision    recall  f1-score   support\n",
      "\n",
      "           0       0.76      0.76      0.76       470\n",
      "           1       0.99      0.99      0.99       458\n",
      "           2       0.97      0.97      0.97       551\n",
      "           3       0.94      0.98      0.96       523\n",
      "           4       0.96      0.93      0.95       513\n",
      "           5       0.75      0.71      0.73       478\n",
      "           6       0.81      0.96      0.88       506\n",
      "           7       0.50      0.30      0.38       482\n",
      "           8       0.52      0.58      0.55       513\n",
      "           9       0.90      0.89      0.89       480\n",
      "          10       0.61      0.91      0.73       510\n",
      "          11       0.85      0.88      0.86       503\n",
      "          12       0.89      0.97      0.93       513\n",
      "          13       0.77      0.37      0.50       500\n",
      "\n",
      "    accuracy                           0.80      7000\n",
      "   macro avg       0.80      0.80      0.79      7000\n",
      "weighted avg       0.80      0.80      0.79      7000\n",
      "\n",
      "[[357   0   2   3   0   7   3  17  47   0   7   4  17   6]\n",
      " [  0 452   0   0   1   1   0   1   3   0   0   0   0   0]\n",
      " [  0   0 537   0   0   0   8   0   4   0   1   1   0   0]\n",
      " [  2   0   0 513   0   0   0   3   1   0   1   3   0   0]\n",
      " [  3   0   0   0 479   5   1   6  16   0   1   0   1   1]\n",
      " [ 11   2   0   3   1 339   5  30  37   1  33   2   2  12]\n",
      " [  0   0   1   2   0   0 484   4   3   0   2   2   6   2]\n",
      " [ 22   1   2  10   8  44  38 147 116   7  56   3  15  13]\n",
      " [ 52   0   6   2   2  27   9  37 297   3  52   6  13   7]\n",
      " [  1   0   0   0   0   0   1   0   0 427   1  49   0   1]\n",
      " [  9   0   0   2   1   5   5   8   7   1 462   1   0   9]\n",
      " [  2   1   0   1   4   1   7   1   1  36   0 442   5   2]\n",
      " [  4   0   0   0   0   2   0   1   2   0   0   1 500   3]\n",
      " [  6   0   7   8   1  20  36  41  41   2 146   5   0 187]]\n"
     ]
    }
   ],
   "source": [
    "print(metrics.classification_report(expected_y, predicted_y))\n",
    "print(metrics.confusion_matrix(expected_y, predicted_y))"
   ]
  },
  {
   "cell_type": "code",
   "execution_count": 43,
   "metadata": {},
   "outputs": [
    {
     "data": {
      "text/plain": [
       "0.8032857142857143"
      ]
     },
     "execution_count": 43,
     "metadata": {},
     "output_type": "execute_result"
    }
   ],
   "source": [
    "score = accuracy_score(expected_y,predicted_y,normalize=True, sample_weight=None)\n",
    "score"
   ]
  },
  {
   "cell_type": "markdown",
   "metadata": {},
   "source": [
    "### (Advanced) Task 9: Use a Random Forest (RF) classifier to train a machine learning model, and obtain the accuracy score against your test data. (4)"
   ]
  },
  {
   "cell_type": "code",
   "execution_count": 44,
   "metadata": {},
   "outputs": [],
   "source": [
    "from sklearn.ensemble import RandomForestClassifier"
   ]
  },
  {
   "cell_type": "code",
   "execution_count": 45,
   "metadata": {},
   "outputs": [
    {
     "data": {
      "text/plain": [
       "0.8761428571428571"
      ]
     },
     "execution_count": 45,
     "metadata": {},
     "output_type": "execute_result"
    }
   ],
   "source": [
    "model = RandomForestClassifier(n_estimators = 100)\n",
    "model.fit(X_train, y_train)\n",
    "predictions= model.predict(X_test)\n",
    "score = accuracy_score(y_test, predictions, normalize= True)\n",
    "score"
   ]
  },
  {
   "cell_type": "markdown",
   "metadata": {},
   "source": [
    "### (Advanced) Task 10: Show how ML parameters can improve the models to achieve a high accuracy score of over 80% (3)\n",
    "\n",
    "*Marks wil be awarded for how your tuning improves accuracy beyond 80%.*"
   ]
  },
  {
   "cell_type": "code",
   "execution_count": 46,
   "metadata": {},
   "outputs": [],
   "source": [
    "import sklearn\n",
    "from sklearn import svm\n",
    "from sklearn.pipeline import Pipeline\n",
    "from sklearn.metrics import classification_report, confusion_matrix \n",
    "from sklearn.svm import SVC \n",
    "from sklearn.model_selection import GridSearchCV\n",
    "from sklearn.model_selection import train_test_split"
   ]
  },
  {
   "cell_type": "code",
   "execution_count": 47,
   "metadata": {},
   "outputs": [],
   "source": [
    "# from sklearn.neighbors import KNeighborsClassifier\n",
    "# from sklearn.preprocessing import MinMaxScaler\n",
    "# knn_pipe = Pipeline([('mms', MinMaxScaler()),\n",
    "#                      ('knn', KNeighborsClassifier())])\n",
    "# params = [{'knn__n_neighbors': [3, 5, 7, 9],\n",
    "#          'knn__weights': ['uniform', 'distance'],\n",
    "#          'knn__leaf_size': [15, 20]}]\n",
    "# gs_knn = GridSearchCV(knn_pipe,\n",
    "#                       param_grid=params,\n",
    "#                       scoring='accuracy',\n",
    "#                       cv=5)\n",
    "# gs_knn.fit(X_train, y_train)\n",
    "# gs_knn.best_params_\n",
    "\n",
    "# # find best model score\n",
    "# gs_knn.score(X_train, y_train)"
   ]
  },
  {
   "cell_type": "code",
   "execution_count": 48,
   "metadata": {},
   "outputs": [],
   "source": [
    "# param_grid = {'C': [0.1, 1, 10, 100],  \n",
    "#               'gamma': [1, 0.1, 0.01, 0.001, 0.0001], \n",
    "#               'gamma':['scale', 'auto'],\n",
    "#               'kernel': ['linear']}  \n",
    "   \n",
    "# grid = GridSearchCV(SVC(), param_grid, refit = True, verbose = 3,n_jobs=-1) \n",
    "   \n",
    "# # fitting the model for grid search \n",
    "# grid.fit(X_train, y_train) \n",
    " \n",
    "# # print best parameter after tuning \n",
    "# print(grid.best_params_) \n",
    "# grid_predictions = grid.predict(X_test) \n",
    "   \n",
    "# # print classification report \n",
    "# print(classification_report(y_test, grid_predictions)) "
   ]
  }
 ],
 "metadata": {
  "kernelspec": {
   "display_name": "Python 3 (ipykernel)",
   "language": "python",
   "name": "python3"
  },
  "language_info": {
   "codemirror_mode": {
    "name": "ipython",
    "version": 3
   },
   "file_extension": ".py",
   "mimetype": "text/x-python",
   "name": "python",
   "nbconvert_exporter": "python",
   "pygments_lexer": "ipython3",
   "version": "3.9.5"
  },
  "vscode": {
   "interpreter": {
    "hash": "81794d4967e6c3204c66dcd87b604927b115b27c00565d3d43f05ba2f3a2cb0d"
   }
  },
  "widgets": {
   "state": {},
   "version": "1.1.2"
  }
 },
 "nbformat": 4,
 "nbformat_minor": 4
}
